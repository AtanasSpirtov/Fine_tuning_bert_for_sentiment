{
  "nbformat": 4,
  "nbformat_minor": 0,
  "metadata": {
    "colab": {
      "provenance": [],
      "gpuType": "T4",
      "authorship_tag": "ABX9TyNM3IsYI93N0xlqyzA4oBhP",
      "include_colab_link": true
    },
    "kernelspec": {
      "name": "python3",
      "display_name": "Python 3"
    },
    "language_info": {
      "name": "python"
    },
    "accelerator": "GPU"
  },
  "cells": [
    {
      "cell_type": "markdown",
      "metadata": {
        "id": "view-in-github",
        "colab_type": "text"
      },
      "source": [
        "<a href=\"https://colab.research.google.com/github/AtanasSpirtov/Fine_tuning_bert_for_sentiment/blob/main/Test_fine_tune_bert.ipynb\" target=\"_parent\"><img src=\"https://colab.research.google.com/assets/colab-badge.svg\" alt=\"Open In Colab\"/></a>"
      ]
    },
    {
      "cell_type": "code",
      "source": [
        "!pip install -q tf-models-official\n",
        "%matplotlib inline"
      ],
      "metadata": {
        "id": "UAUtkKZqHydr"
      },
      "execution_count": 1,
      "outputs": []
    },
    {
      "cell_type": "code",
      "execution_count": 2,
      "metadata": {
        "id": "MdQEswbj2o38"
      },
      "outputs": [],
      "source": [
        "import pandas as pd\n",
        "import tensorflow as tf\n",
        "import tensorflow_models as tfm\n",
        "import os\n",
        "import tensorflow_hub as tf_hub\n",
        "from official.nlp import optimization\n",
        "from official.nlp.data import classifier_data_lib\n",
        "from transformers import BertTokenizer\n",
        "from tensorflow.keras.layers import Input, Dropout, Dense\n",
        "from official.nlp.tools import tokenization\n",
        "import matplotlib.pyplot as plt"
      ]
    },
    {
      "cell_type": "code",
      "source": [
        "data = pd.read_csv(\"ranked_and_filtered_news.csv\")"
      ],
      "metadata": {
        "id": "BfeMJJ5C3KFf"
      },
      "execution_count": 3,
      "outputs": []
    },
    {
      "cell_type": "code",
      "source": [
        "data"
      ],
      "metadata": {
        "colab": {
          "base_uri": "https://localhost:8080/",
          "height": 614
        },
        "id": "QxJltNPD3kAp",
        "outputId": "dc7b7a5e-e103-4617-8f78-3b7bc3359e0c"
      },
      "execution_count": 4,
      "outputs": [
        {
          "output_type": "execute_result",
          "data": {
            "text/plain": [
              "                                                 title  \\\n",
              "0                                  Latest Bitcoin News   \n",
              "1                                 Latest Ethereum News   \n",
              "2                                     Latest DeFi News   \n",
              "3                          Breaking Altcoin News Today   \n",
              "4                              Blockchain Altcoin News   \n",
              "..                                                 ...   \n",
              "639  Bitcoin Price Correction Imminent as Miners En...   \n",
              "640  Ethereum Outperforms as Crypto Markets Navigat...   \n",
              "641  Could Polygon (MATIC) Emerge as a Dark Horse i...   \n",
              "642  Coinbase Extends Offer to Assist SEC With Cybe...   \n",
              "643  AI Crypto Tokens, A Winner in Recent Times: Re...   \n",
              "\n",
              "                  publish_date  \\\n",
              "0                          NaN   \n",
              "1                          NaN   \n",
              "2                          NaN   \n",
              "3                          NaN   \n",
              "4                          NaN   \n",
              "..                         ...   \n",
              "639  2024-01-10 10:22:06+00:00   \n",
              "640  2024-01-10 07:52:10+00:00   \n",
              "641  2024-01-10 07:51:18+00:00   \n",
              "642  2024-01-10 06:31:10+00:00   \n",
              "643  2024-01-10 05:52:11+00:00   \n",
              "\n",
              "                                                  text      rank  \n",
              "0    [{'summary_text': 'Bitcoin is the first peer-t...   neutral  \n",
              "1    [{'summary_text': 'Ethereum News is the larges...   neutral  \n",
              "2    [{'summary_text': 'DeFi, or decentralized fina...   neutral  \n",
              "3    [{'summary_text': 'Take a look at the list of ...   neutral  \n",
              "4    [{'summary_text': 'In Blockchain News you can ...   neutral  \n",
              "..                                                 ...       ...  \n",
              "639  [{'summary_text': 'In the past 13 weeks, there...  negative  \n",
              "640  [{'summary_text': 'Crypto markets have fallen ...  positive  \n",
              "641  [{'summary_text': 'Polygon proof-of-stake (POS...  positive  \n",
              "642  [{'summary_text': 'Coinbase has offered to hel...   neutral  \n",
              "643  [{'summary_text': '“Interest in artificial int...  positive  \n",
              "\n",
              "[644 rows x 4 columns]"
            ],
            "text/html": [
              "\n",
              "  <div id=\"df-a043640b-045a-46c0-89d1-9c794f340442\" class=\"colab-df-container\">\n",
              "    <div>\n",
              "<style scoped>\n",
              "    .dataframe tbody tr th:only-of-type {\n",
              "        vertical-align: middle;\n",
              "    }\n",
              "\n",
              "    .dataframe tbody tr th {\n",
              "        vertical-align: top;\n",
              "    }\n",
              "\n",
              "    .dataframe thead th {\n",
              "        text-align: right;\n",
              "    }\n",
              "</style>\n",
              "<table border=\"1\" class=\"dataframe\">\n",
              "  <thead>\n",
              "    <tr style=\"text-align: right;\">\n",
              "      <th></th>\n",
              "      <th>title</th>\n",
              "      <th>publish_date</th>\n",
              "      <th>text</th>\n",
              "      <th>rank</th>\n",
              "    </tr>\n",
              "  </thead>\n",
              "  <tbody>\n",
              "    <tr>\n",
              "      <th>0</th>\n",
              "      <td>Latest Bitcoin News</td>\n",
              "      <td>NaN</td>\n",
              "      <td>[{'summary_text': 'Bitcoin is the first peer-t...</td>\n",
              "      <td>neutral</td>\n",
              "    </tr>\n",
              "    <tr>\n",
              "      <th>1</th>\n",
              "      <td>Latest Ethereum News</td>\n",
              "      <td>NaN</td>\n",
              "      <td>[{'summary_text': 'Ethereum News is the larges...</td>\n",
              "      <td>neutral</td>\n",
              "    </tr>\n",
              "    <tr>\n",
              "      <th>2</th>\n",
              "      <td>Latest DeFi News</td>\n",
              "      <td>NaN</td>\n",
              "      <td>[{'summary_text': 'DeFi, or decentralized fina...</td>\n",
              "      <td>neutral</td>\n",
              "    </tr>\n",
              "    <tr>\n",
              "      <th>3</th>\n",
              "      <td>Breaking Altcoin News Today</td>\n",
              "      <td>NaN</td>\n",
              "      <td>[{'summary_text': 'Take a look at the list of ...</td>\n",
              "      <td>neutral</td>\n",
              "    </tr>\n",
              "    <tr>\n",
              "      <th>4</th>\n",
              "      <td>Blockchain Altcoin News</td>\n",
              "      <td>NaN</td>\n",
              "      <td>[{'summary_text': 'In Blockchain News you can ...</td>\n",
              "      <td>neutral</td>\n",
              "    </tr>\n",
              "    <tr>\n",
              "      <th>...</th>\n",
              "      <td>...</td>\n",
              "      <td>...</td>\n",
              "      <td>...</td>\n",
              "      <td>...</td>\n",
              "    </tr>\n",
              "    <tr>\n",
              "      <th>639</th>\n",
              "      <td>Bitcoin Price Correction Imminent as Miners En...</td>\n",
              "      <td>2024-01-10 10:22:06+00:00</td>\n",
              "      <td>[{'summary_text': 'In the past 13 weeks, there...</td>\n",
              "      <td>negative</td>\n",
              "    </tr>\n",
              "    <tr>\n",
              "      <th>640</th>\n",
              "      <td>Ethereum Outperforms as Crypto Markets Navigat...</td>\n",
              "      <td>2024-01-10 07:52:10+00:00</td>\n",
              "      <td>[{'summary_text': 'Crypto markets have fallen ...</td>\n",
              "      <td>positive</td>\n",
              "    </tr>\n",
              "    <tr>\n",
              "      <th>641</th>\n",
              "      <td>Could Polygon (MATIC) Emerge as a Dark Horse i...</td>\n",
              "      <td>2024-01-10 07:51:18+00:00</td>\n",
              "      <td>[{'summary_text': 'Polygon proof-of-stake (POS...</td>\n",
              "      <td>positive</td>\n",
              "    </tr>\n",
              "    <tr>\n",
              "      <th>642</th>\n",
              "      <td>Coinbase Extends Offer to Assist SEC With Cybe...</td>\n",
              "      <td>2024-01-10 06:31:10+00:00</td>\n",
              "      <td>[{'summary_text': 'Coinbase has offered to hel...</td>\n",
              "      <td>neutral</td>\n",
              "    </tr>\n",
              "    <tr>\n",
              "      <th>643</th>\n",
              "      <td>AI Crypto Tokens, A Winner in Recent Times: Re...</td>\n",
              "      <td>2024-01-10 05:52:11+00:00</td>\n",
              "      <td>[{'summary_text': '“Interest in artificial int...</td>\n",
              "      <td>positive</td>\n",
              "    </tr>\n",
              "  </tbody>\n",
              "</table>\n",
              "<p>644 rows × 4 columns</p>\n",
              "</div>\n",
              "    <div class=\"colab-df-buttons\">\n",
              "\n",
              "  <div class=\"colab-df-container\">\n",
              "    <button class=\"colab-df-convert\" onclick=\"convertToInteractive('df-a043640b-045a-46c0-89d1-9c794f340442')\"\n",
              "            title=\"Convert this dataframe to an interactive table.\"\n",
              "            style=\"display:none;\">\n",
              "\n",
              "  <svg xmlns=\"http://www.w3.org/2000/svg\" height=\"24px\" viewBox=\"0 -960 960 960\">\n",
              "    <path d=\"M120-120v-720h720v720H120Zm60-500h600v-160H180v160Zm220 220h160v-160H400v160Zm0 220h160v-160H400v160ZM180-400h160v-160H180v160Zm440 0h160v-160H620v160ZM180-180h160v-160H180v160Zm440 0h160v-160H620v160Z\"/>\n",
              "  </svg>\n",
              "    </button>\n",
              "\n",
              "  <style>\n",
              "    .colab-df-container {\n",
              "      display:flex;\n",
              "      gap: 12px;\n",
              "    }\n",
              "\n",
              "    .colab-df-convert {\n",
              "      background-color: #E8F0FE;\n",
              "      border: none;\n",
              "      border-radius: 50%;\n",
              "      cursor: pointer;\n",
              "      display: none;\n",
              "      fill: #1967D2;\n",
              "      height: 32px;\n",
              "      padding: 0 0 0 0;\n",
              "      width: 32px;\n",
              "    }\n",
              "\n",
              "    .colab-df-convert:hover {\n",
              "      background-color: #E2EBFA;\n",
              "      box-shadow: 0px 1px 2px rgba(60, 64, 67, 0.3), 0px 1px 3px 1px rgba(60, 64, 67, 0.15);\n",
              "      fill: #174EA6;\n",
              "    }\n",
              "\n",
              "    .colab-df-buttons div {\n",
              "      margin-bottom: 4px;\n",
              "    }\n",
              "\n",
              "    [theme=dark] .colab-df-convert {\n",
              "      background-color: #3B4455;\n",
              "      fill: #D2E3FC;\n",
              "    }\n",
              "\n",
              "    [theme=dark] .colab-df-convert:hover {\n",
              "      background-color: #434B5C;\n",
              "      box-shadow: 0px 1px 3px 1px rgba(0, 0, 0, 0.15);\n",
              "      filter: drop-shadow(0px 1px 2px rgba(0, 0, 0, 0.3));\n",
              "      fill: #FFFFFF;\n",
              "    }\n",
              "  </style>\n",
              "\n",
              "    <script>\n",
              "      const buttonEl =\n",
              "        document.querySelector('#df-a043640b-045a-46c0-89d1-9c794f340442 button.colab-df-convert');\n",
              "      buttonEl.style.display =\n",
              "        google.colab.kernel.accessAllowed ? 'block' : 'none';\n",
              "\n",
              "      async function convertToInteractive(key) {\n",
              "        const element = document.querySelector('#df-a043640b-045a-46c0-89d1-9c794f340442');\n",
              "        const dataTable =\n",
              "          await google.colab.kernel.invokeFunction('convertToInteractive',\n",
              "                                                    [key], {});\n",
              "        if (!dataTable) return;\n",
              "\n",
              "        const docLinkHtml = 'Like what you see? Visit the ' +\n",
              "          '<a target=\"_blank\" href=https://colab.research.google.com/notebooks/data_table.ipynb>data table notebook</a>'\n",
              "          + ' to learn more about interactive tables.';\n",
              "        element.innerHTML = '';\n",
              "        dataTable['output_type'] = 'display_data';\n",
              "        await google.colab.output.renderOutput(dataTable, element);\n",
              "        const docLink = document.createElement('div');\n",
              "        docLink.innerHTML = docLinkHtml;\n",
              "        element.appendChild(docLink);\n",
              "      }\n",
              "    </script>\n",
              "  </div>\n",
              "\n",
              "\n",
              "<div id=\"df-d043b161-a6b4-4c2e-8d72-9458161377ca\">\n",
              "  <button class=\"colab-df-quickchart\" onclick=\"quickchart('df-d043b161-a6b4-4c2e-8d72-9458161377ca')\"\n",
              "            title=\"Suggest charts\"\n",
              "            style=\"display:none;\">\n",
              "\n",
              "<svg xmlns=\"http://www.w3.org/2000/svg\" height=\"24px\"viewBox=\"0 0 24 24\"\n",
              "     width=\"24px\">\n",
              "    <g>\n",
              "        <path d=\"M19 3H5c-1.1 0-2 .9-2 2v14c0 1.1.9 2 2 2h14c1.1 0 2-.9 2-2V5c0-1.1-.9-2-2-2zM9 17H7v-7h2v7zm4 0h-2V7h2v10zm4 0h-2v-4h2v4z\"/>\n",
              "    </g>\n",
              "</svg>\n",
              "  </button>\n",
              "\n",
              "<style>\n",
              "  .colab-df-quickchart {\n",
              "      --bg-color: #E8F0FE;\n",
              "      --fill-color: #1967D2;\n",
              "      --hover-bg-color: #E2EBFA;\n",
              "      --hover-fill-color: #174EA6;\n",
              "      --disabled-fill-color: #AAA;\n",
              "      --disabled-bg-color: #DDD;\n",
              "  }\n",
              "\n",
              "  [theme=dark] .colab-df-quickchart {\n",
              "      --bg-color: #3B4455;\n",
              "      --fill-color: #D2E3FC;\n",
              "      --hover-bg-color: #434B5C;\n",
              "      --hover-fill-color: #FFFFFF;\n",
              "      --disabled-bg-color: #3B4455;\n",
              "      --disabled-fill-color: #666;\n",
              "  }\n",
              "\n",
              "  .colab-df-quickchart {\n",
              "    background-color: var(--bg-color);\n",
              "    border: none;\n",
              "    border-radius: 50%;\n",
              "    cursor: pointer;\n",
              "    display: none;\n",
              "    fill: var(--fill-color);\n",
              "    height: 32px;\n",
              "    padding: 0;\n",
              "    width: 32px;\n",
              "  }\n",
              "\n",
              "  .colab-df-quickchart:hover {\n",
              "    background-color: var(--hover-bg-color);\n",
              "    box-shadow: 0 1px 2px rgba(60, 64, 67, 0.3), 0 1px 3px 1px rgba(60, 64, 67, 0.15);\n",
              "    fill: var(--button-hover-fill-color);\n",
              "  }\n",
              "\n",
              "  .colab-df-quickchart-complete:disabled,\n",
              "  .colab-df-quickchart-complete:disabled:hover {\n",
              "    background-color: var(--disabled-bg-color);\n",
              "    fill: var(--disabled-fill-color);\n",
              "    box-shadow: none;\n",
              "  }\n",
              "\n",
              "  .colab-df-spinner {\n",
              "    border: 2px solid var(--fill-color);\n",
              "    border-color: transparent;\n",
              "    border-bottom-color: var(--fill-color);\n",
              "    animation:\n",
              "      spin 1s steps(1) infinite;\n",
              "  }\n",
              "\n",
              "  @keyframes spin {\n",
              "    0% {\n",
              "      border-color: transparent;\n",
              "      border-bottom-color: var(--fill-color);\n",
              "      border-left-color: var(--fill-color);\n",
              "    }\n",
              "    20% {\n",
              "      border-color: transparent;\n",
              "      border-left-color: var(--fill-color);\n",
              "      border-top-color: var(--fill-color);\n",
              "    }\n",
              "    30% {\n",
              "      border-color: transparent;\n",
              "      border-left-color: var(--fill-color);\n",
              "      border-top-color: var(--fill-color);\n",
              "      border-right-color: var(--fill-color);\n",
              "    }\n",
              "    40% {\n",
              "      border-color: transparent;\n",
              "      border-right-color: var(--fill-color);\n",
              "      border-top-color: var(--fill-color);\n",
              "    }\n",
              "    60% {\n",
              "      border-color: transparent;\n",
              "      border-right-color: var(--fill-color);\n",
              "    }\n",
              "    80% {\n",
              "      border-color: transparent;\n",
              "      border-right-color: var(--fill-color);\n",
              "      border-bottom-color: var(--fill-color);\n",
              "    }\n",
              "    90% {\n",
              "      border-color: transparent;\n",
              "      border-bottom-color: var(--fill-color);\n",
              "    }\n",
              "  }\n",
              "</style>\n",
              "\n",
              "  <script>\n",
              "    async function quickchart(key) {\n",
              "      const quickchartButtonEl =\n",
              "        document.querySelector('#' + key + ' button');\n",
              "      quickchartButtonEl.disabled = true;  // To prevent multiple clicks.\n",
              "      quickchartButtonEl.classList.add('colab-df-spinner');\n",
              "      try {\n",
              "        const charts = await google.colab.kernel.invokeFunction(\n",
              "            'suggestCharts', [key], {});\n",
              "      } catch (error) {\n",
              "        console.error('Error during call to suggestCharts:', error);\n",
              "      }\n",
              "      quickchartButtonEl.classList.remove('colab-df-spinner');\n",
              "      quickchartButtonEl.classList.add('colab-df-quickchart-complete');\n",
              "    }\n",
              "    (() => {\n",
              "      let quickchartButtonEl =\n",
              "        document.querySelector('#df-d043b161-a6b4-4c2e-8d72-9458161377ca button');\n",
              "      quickchartButtonEl.style.display =\n",
              "        google.colab.kernel.accessAllowed ? 'block' : 'none';\n",
              "    })();\n",
              "  </script>\n",
              "</div>\n",
              "    </div>\n",
              "  </div>\n"
            ]
          },
          "metadata": {},
          "execution_count": 4
        }
      ]
    },
    {
      "cell_type": "markdown",
      "source": [
        "## REMOVE JUNK FROM EVERY TEXT ROW"
      ],
      "metadata": {
        "id": "BO6NMrrm3pcV"
      }
    },
    {
      "cell_type": "code",
      "source": [
        "def remove_junk_from_sentence(data):\n",
        "  data.str.replce"
      ],
      "metadata": {
        "id": "cndiaY3K7K8j"
      },
      "execution_count": 5,
      "outputs": []
    },
    {
      "cell_type": "code",
      "source": [
        "text_data_with_labels = data.drop(columns=['title', 'publish_date'])\n",
        "text_data_with_labels[\"text\"] = text_data_with_labels[\"text\"].str.replace(r\"\\[{'summary_text': \", \"\", regex=True)\n",
        "text_data_with_labels[\"text\"] = text_data_with_labels[\"text\"].str.replace(r\"}]\", \"\", regex=True)"
      ],
      "metadata": {
        "id": "5s5eSyU33RbU"
      },
      "execution_count": 6,
      "outputs": []
    },
    {
      "cell_type": "code",
      "source": [
        "labels = text_data_with_labels[\"rank\"].unique()"
      ],
      "metadata": {
        "id": "ZTZOZ9V87yjs"
      },
      "execution_count": 7,
      "outputs": []
    },
    {
      "cell_type": "code",
      "source": [
        "label_mapping = {'very negative': 1, 'negative': 2, 'neutral': 3, 'positive': 4, 'very positive': 5}\n",
        "text_data_with_labels['rank'] = text_data_with_labels['rank'].map(label_mapping)\n",
        "sentences = text_data_with_labels[\"text\"]\n",
        "labels = text_data_with_labels[\"rank\"]"
      ],
      "metadata": {
        "id": "pryR-bJK81-S"
      },
      "execution_count": 8,
      "outputs": []
    },
    {
      "cell_type": "markdown",
      "source": [
        "## PREPROCESS"
      ],
      "metadata": {
        "id": "qcYK2jzsBU7G"
      }
    },
    {
      "cell_type": "code",
      "source": [
        "text_data_with_labels['text'] = text_data_with_labels['text'].str.lower()"
      ],
      "metadata": {
        "id": "UjCmTScSBXM_"
      },
      "execution_count": 9,
      "outputs": []
    },
    {
      "cell_type": "code",
      "source": [
        "text_data_with_labels['text'] = text_data_with_labels['text'].str.replace('[^a-zA-Z0-9\\s]', '', regex=True)"
      ],
      "metadata": {
        "id": "AqB5IO9gBvVz"
      },
      "execution_count": 10,
      "outputs": []
    },
    {
      "cell_type": "markdown",
      "source": [
        "## Splitting the data"
      ],
      "metadata": {
        "id": "1UEMsVUSAuCw"
      }
    },
    {
      "cell_type": "code",
      "source": [
        "train_size = int(0.8 * len(sentences))\n",
        "val_size = int(0.1 * len(sentences))\n",
        "test_size = len(sentences) - train_size - val_size\n",
        "train_size, val_size, test_size"
      ],
      "metadata": {
        "colab": {
          "base_uri": "https://localhost:8080/"
        },
        "id": "MHoVmM7E88-C",
        "outputId": "c25a3130-99fc-4f8c-ff47-eb60c4d79aae"
      },
      "execution_count": 11,
      "outputs": [
        {
          "output_type": "execute_result",
          "data": {
            "text/plain": [
              "(515, 64, 65)"
            ]
          },
          "metadata": {},
          "execution_count": 11
        }
      ]
    },
    {
      "cell_type": "code",
      "source": [
        "X_train, y_train = sentences[:train_size], labels[:train_size]\n",
        "X_val, y_val = sentences[train_size:train_size + val_size], labels[train_size:train_size + val_size]\n",
        "X_test, y_test = sentences[train_size + val_size:], labels[train_size + val_size:]\n"
      ],
      "metadata": {
        "id": "ds3Dr1UH-nT-"
      },
      "execution_count": 12,
      "outputs": []
    },
    {
      "cell_type": "code",
      "source": [
        "training_dataset = tf.data.Dataset.from_tensor_slices((X_train, y_train))\n",
        "validation_dataset = tf.data.Dataset.from_tensor_slices((X_val, y_val))\n",
        "test_dataset = tf.data.Dataset.from_tensor_slices((X_test, y_test))"
      ],
      "metadata": {
        "id": "XMhZ3N15ASvQ"
      },
      "execution_count": 13,
      "outputs": []
    },
    {
      "cell_type": "code",
      "source": [
        "batch_size = 2 # This is the recommended size for BERT model. Other possible size is 16 but 32 will be better in our use case"
      ],
      "metadata": {
        "id": "d-vNR6EhG4LZ"
      },
      "execution_count": 14,
      "outputs": []
    },
    {
      "cell_type": "markdown",
      "source": [
        "## Fine tuning"
      ],
      "metadata": {
        "id": "xhr2L1tpIHDM"
      }
    },
    {
      "cell_type": "code",
      "source": [
        "total_characters = sum(len(X_train) for sentence in X_train)\n",
        "average_character_length = total_characters / len(X_train)\n",
        "average_character_length"
      ],
      "metadata": {
        "colab": {
          "base_uri": "https://localhost:8080/"
        },
        "id": "ame5OH05KKtx",
        "outputId": "278a6243-168e-4241-a6e6-b8c839a08c48"
      },
      "execution_count": 15,
      "outputs": [
        {
          "output_type": "execute_result",
          "data": {
            "text/plain": [
              "515.0"
            ]
          },
          "metadata": {},
          "execution_count": 15
        }
      ]
    },
    {
      "cell_type": "code",
      "source": [
        "max_seq_length = 512"
      ],
      "metadata": {
        "id": "Cb0aE44pA6yJ"
      },
      "execution_count": 16,
      "outputs": []
    },
    {
      "cell_type": "code",
      "source": [
        "bert_model_layer = tf_hub.KerasLayer(\"https://tfhub.dev/tensorflow/bert_en_uncased_L-12_H-768_A-12/2\",\n",
        "                            trainable=True)"
      ],
      "metadata": {
        "id": "vQaZHVTwJ-fG"
      },
      "execution_count": 17,
      "outputs": []
    },
    {
      "cell_type": "code",
      "source": [
        "vocab_file = bert_model_layer.resolved_object.vocab_file.asset_path.numpy()\n",
        "do_lower_case = bert_model_layer.resolved_object.do_lower_case.numpy()\n",
        "tokenizer = tokenization.FullTokenizer(vocab_file, do_lower_case)\n"
      ],
      "metadata": {
        "id": "Et3KpL7mOcio"
      },
      "execution_count": 18,
      "outputs": []
    },
    {
      "cell_type": "code",
      "source": [
        "def to_feature(text, label, label_list=sorted(y_train.unique()), max_seq_length=max_seq_length, tokenizer=tokenizer):\n",
        "  example = classifier_data_lib.InputExample(guid = None,\n",
        "                                            text_a = text.numpy(),\n",
        "                                            text_b = None,\n",
        "                                            label = label.numpy())\n",
        "  feature = classifier_data_lib.convert_single_example(0, example, label_list,\n",
        "                                    max_seq_length, tokenizer)\n",
        "\n",
        "  return (feature.input_ids, feature.input_mask, feature.segment_ids, feature.label_id)\n"
      ],
      "metadata": {
        "id": "DsdCl2pkP66L"
      },
      "execution_count": 19,
      "outputs": []
    },
    {
      "cell_type": "code",
      "source": [
        "def to_feature_map(text, label):\n",
        "  input_ids, input_mask, segment_ids, label_id = tf.py_function(to_feature, inp=[text, label],\n",
        "                                Tout=[tf.int32, tf.int32, tf.int32, tf.int32])\n",
        "\n",
        "  # py_func doesn't set the shape of the returned tensors.\n",
        "  input_ids.set_shape([max_seq_length])\n",
        "  input_mask.set_shape([max_seq_length])\n",
        "  segment_ids.set_shape([max_seq_length])\n",
        "  label_id.set_shape([])\n",
        "\n",
        "  x = {\n",
        "        'input_word_ids': input_ids,\n",
        "        'input_mask': input_mask,\n",
        "        'input_type_ids': segment_ids\n",
        "    }\n",
        "  return (x, label_id)"
      ],
      "metadata": {
        "id": "fMYDf5CrQfT4"
      },
      "execution_count": 20,
      "outputs": []
    },
    {
      "cell_type": "code",
      "source": [
        "  train_data = (training_dataset.map(to_feature_map)\n",
        "                          .shuffle(len(X_train))\n",
        "                          .batch(batch_size, drop_remainder=True)\n",
        "                          .prefetch(tf.data.experimental.AUTOTUNE))\n",
        "\n",
        "  valid_data = (validation_dataset.map(to_feature_map)\n",
        "                          .batch(batch_size, drop_remainder=True)\n",
        "                          .prefetch(tf.data.experimental.AUTOTUNE))\n",
        "  test_data = (test_dataset.map(to_feature_map)\n",
        "                          .batch(batch_size, drop_remainder=True)\n",
        "                          .prefetch(tf.data.experimental.AUTOTUNE))"
      ],
      "metadata": {
        "id": "yiuD9T2vRqLj"
      },
      "execution_count": 21,
      "outputs": []
    },
    {
      "cell_type": "code",
      "source": [
        "def create_model():\n",
        "  input_word_ids = Input(shape=(max_seq_length,), dtype=tf.int32,\n",
        "                                      name=\"input_word_ids\")\n",
        "  input_mask = Input(shape=(max_seq_length,), dtype=tf.int32,\n",
        "                                  name=\"input_mask\")\n",
        "  input_type_ids = Input(shape=(max_seq_length,), dtype=tf.int32, name=\"input_type_ids\")\n",
        "\n",
        "  pooled_output, sequence_output = bert_model_layer([input_word_ids, input_mask, input_type_ids])\n",
        "\n",
        "  drop = tf.keras.layers.Dropout(0.1)(pooled_output)\n",
        "  output = tf.keras.layers.Dense(5, activation=\"softmax\", name=\"output\")(drop)\n",
        "\n",
        "  model = tf.keras.Model(\n",
        "    inputs={\n",
        "        'input_word_ids': input_word_ids,\n",
        "        'input_mask': input_mask,\n",
        "        'input_type_ids': input_type_ids\n",
        "    },\n",
        "    outputs=output)\n",
        "  return model"
      ],
      "metadata": {
        "id": "2bWFlFEgTtzs"
      },
      "execution_count": 22,
      "outputs": []
    },
    {
      "cell_type": "code",
      "source": [
        "model = create_model()\n",
        "model.compile(optimizer=tf.keras.optimizers.Adam(learning_rate=2e-5, clipnorm=1.0),\n",
        "                     loss=tf.keras.losses.SparseCategoricalCrossentropy(),\n",
        "                     metrics=[tf.keras.metrics.SparseCategoricalAccuracy()])\n",
        "model.summary()\n"
      ],
      "metadata": {
        "colab": {
          "base_uri": "https://localhost:8080/"
        },
        "id": "dMXpbErwUn7m",
        "outputId": "68e0bfc1-98b7-4d56-a4da-cbfde1902c5e"
      },
      "execution_count": 23,
      "outputs": [
        {
          "output_type": "stream",
          "name": "stdout",
          "text": [
            "Model: \"model\"\n",
            "__________________________________________________________________________________________________\n",
            " Layer (type)                Output Shape                 Param #   Connected to                  \n",
            "==================================================================================================\n",
            " input_word_ids (InputLayer  [(None, 512)]                0         []                            \n",
            " )                                                                                                \n",
            "                                                                                                  \n",
            " input_mask (InputLayer)     [(None, 512)]                0         []                            \n",
            "                                                                                                  \n",
            " input_type_ids (InputLayer  [(None, 512)]                0         []                            \n",
            " )                                                                                                \n",
            "                                                                                                  \n",
            " keras_layer (KerasLayer)    [(None, 768),                1094822   ['input_word_ids[0][0]',      \n",
            "                              (None, 512, 768)]           41         'input_mask[0][0]',          \n",
            "                                                                     'input_type_ids[0][0]']      \n",
            "                                                                                                  \n",
            " dropout (Dropout)           (None, 768)                  0         ['keras_layer[0][0]']         \n",
            "                                                                                                  \n",
            " output (Dense)              (None, 5)                    3845      ['dropout[0][0]']             \n",
            "                                                                                                  \n",
            "==================================================================================================\n",
            "Total params: 109486086 (417.66 MB)\n",
            "Trainable params: 109486085 (417.66 MB)\n",
            "Non-trainable params: 1 (1.00 Byte)\n",
            "__________________________________________________________________________________________________\n"
          ]
        }
      ]
    },
    {
      "cell_type": "code",
      "source": [
        "tf.keras.utils.plot_model(model=model,show_shapes=True,dpi=76)"
      ],
      "metadata": {
        "colab": {
          "base_uri": "https://localhost:8080/",
          "height": 284
        },
        "id": "sSNtsoaLU6uR",
        "outputId": "7c72a00c-b7b9-4ea0-d604-e636446495b1"
      },
      "execution_count": 24,
      "outputs": [
        {
          "output_type": "execute_result",
          "data": {
            "image/png": "[encoded data removed]",
            "text/plain": [
              "<IPython.core.display.Image object>"
            ]
          },
          "metadata": {},
          "execution_count": 24
        }
      ]
    },
    {
      "cell_type": "code",
      "source": [
        "train_data"
      ],
      "metadata": {
        "colab": {
          "base_uri": "https://localhost:8080/"
        },
        "id": "sjCiUaJ7WHq3",
        "outputId": "bfc022cf-cbe4-4104-e901-54076c967cf4"
      },
      "execution_count": 25,
      "outputs": [
        {
          "output_type": "execute_result",
          "data": {
            "text/plain": [
              "<_PrefetchDataset element_spec=({'input_word_ids': TensorSpec(shape=(2, 512), dtype=tf.int32, name=None), 'input_mask': TensorSpec(shape=(2, 512), dtype=tf.int32, name=None), 'input_type_ids': TensorSpec(shape=(2, 512), dtype=tf.int32, name=None)}, TensorSpec(shape=(2,), dtype=tf.int32, name=None))>"
            ]
          },
          "metadata": {},
          "execution_count": 25
        }
      ]
    },
    {
      "cell_type": "code",
      "source": [
        "# Train model\n",
        "epochs=4\n",
        "history = model.fit(train_data,\n",
        "                    validation_data=valid_data,\n",
        "                    epochs=epochs,\n",
        "                    verbose=1)\n"
      ],
      "metadata": {
        "colab": {
          "base_uri": "https://localhost:8080/"
        },
        "id": "TL_CePm8VMqA",
        "outputId": "8150dccc-b25d-421c-c9fb-f668d4d2c754"
      },
      "execution_count": 26,
      "outputs": [
        {
          "output_type": "stream",
          "name": "stdout",
          "text": [
            "Epoch 1/4\n",
            "257/257 [==============================] - 141s 334ms/step - loss: 1.2761 - sparse_categorical_accuracy: 0.4961 - val_loss: 0.8249 - val_sparse_categorical_accuracy: 0.6719\n",
            "Epoch 2/4\n",
            "257/257 [==============================] - 82s 314ms/step - loss: 0.8008 - sparse_categorical_accuracy: 0.6926 - val_loss: 0.5536 - val_sparse_categorical_accuracy: 0.7500\n",
            "Epoch 3/4\n",
            "257/257 [==============================] - 80s 302ms/step - loss: 0.3931 - sparse_categorical_accuracy: 0.8599 - val_loss: 0.2390 - val_sparse_categorical_accuracy: 0.8750\n",
            "Epoch 4/4\n",
            "257/257 [==============================] - 81s 311ms/step - loss: 0.1834 - sparse_categorical_accuracy: 0.9358 - val_loss: 0.1091 - val_sparse_categorical_accuracy: 0.9531\n"
          ]
        }
      ]
    },
    {
      "cell_type": "code",
      "source": [
        "model.evaluate(test_data)"
      ],
      "metadata": {
        "colab": {
          "base_uri": "https://localhost:8080/"
        },
        "id": "piJfjtiYdNQ4",
        "outputId": "f09bb94a-6192-49ca-bc98-40921f0a225d"
      },
      "execution_count": 27,
      "outputs": [
        {
          "output_type": "stream",
          "name": "stdout",
          "text": [
            "32/32 [==============================] - 3s 94ms/step - loss: 0.0454 - sparse_categorical_accuracy: 0.9688\n"
          ]
        },
        {
          "output_type": "execute_result",
          "data": {
            "text/plain": [
              "[0.04535440728068352, 0.96875]"
            ]
          },
          "metadata": {},
          "execution_count": 27
        }
      ]
    },
    {
      "cell_type": "code",
      "source": [
        "train_loss = history.history['loss']\n",
        "train_accuracy = history.history['sparse_categorical_accuracy']\n",
        "val_loss = history.history['val_loss']\n",
        "val_accuracy = history.history['val_sparse_categorical_accuracy']\n",
        "history.history"
      ],
      "metadata": {
        "colab": {
          "base_uri": "https://localhost:8080/"
        },
        "id": "GiAFe4aPe1Rc",
        "outputId": "ad47aa37-3cde-4b3f-e4c3-d9e4dd41457a"
      },
      "execution_count": 28,
      "outputs": [
        {
          "output_type": "execute_result",
          "data": {
            "text/plain": [
              "{'loss': [1.2761341333389282,\n",
              "  0.8007715344429016,\n",
              "  0.3930809199810028,\n",
              "  0.18337693810462952],\n",
              " 'sparse_categorical_accuracy': [0.4961089491844177,\n",
              "  0.6926069855690002,\n",
              "  0.8599221706390381,\n",
              "  0.9357976913452148],\n",
              " 'val_loss': [0.8248924016952515,\n",
              "  0.5535622239112854,\n",
              "  0.23895925283432007,\n",
              "  0.1091272160410881],\n",
              " 'val_sparse_categorical_accuracy': [0.671875, 0.75, 0.875, 0.953125]}"
            ]
          },
          "metadata": {},
          "execution_count": 28
        }
      ]
    },
    {
      "cell_type": "code",
      "source": [
        "plt.plot(train_loss, label='Training ')\n",
        "plt.plot(val_loss, label='Validation ')\n",
        "plt.xlabel('Epochs')\n",
        "plt.ylabel('loss')\n",
        "plt.legend()\n",
        "plt.show()"
      ],
      "metadata": {
        "id": "-zEM1MLTffO4"
      },
      "execution_count": 29,
      "outputs": []
    }
  ]
}